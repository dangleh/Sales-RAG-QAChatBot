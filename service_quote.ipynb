{
 "cells": [
  {
   "cell_type": "code",
   "execution_count": 3,
   "id": "4e51f995",
   "metadata": {},
   "outputs": [],
   "source": [
    "import pandas as pd\n",
    "\n",
    "# Sample media production service quote\n",
    "data = {\n",
    "    \"STT\": [1, 2, 3, 4, 5],\n",
    "    \"Tên Dịch Vụ\": [\n",
    "        \"Quay phim sự kiện\",\n",
    "        \"Dịch vụ dựng phim\",\n",
    "        \"Chỉnh màu (Color Grading)\",\n",
    "        \"Thiết kế Motion Graphics\",\n",
    "        \"Lồng tiếng & Hậu kỳ âm thanh\"\n",
    "    ],\n",
    "    \"Mô Tả Ngắn\": [\n",
    "        \"Quay phim Full HD, 2 cameramen, 4 giờ\",\n",
    "        \"Dựng, cắt ghép, hiệu ứng cơ bản, 5-7 phút video\",\n",
    "        \"Tối ưu ánh sáng, tone màu cinematic cho video\",\n",
    "        \"Thiết kế intro/outro, đồ họa chuyển động ngắn\",\n",
    "        \"Chỉnh âm, mix nhạc, lồng tiếng cho video\"\n",
    "    ],\n",
    "    \"Đơn Vị Tính\": [\"Gói\", \"Gói\", \"Gói\", \"Gói\", \"Gói\"],\n",
    "    \"Số Lượng\": [1, 1, 1, 1, 1],\n",
    "    \"Đơn Giá (₫)\": [5000000, 3000000, 2000000, 1500000, 1000000],\n",
    "}\n",
    "\n",
    "df = pd.DataFrame(data)\n",
    "\n",
    "# Save to CSV\n",
    "file_path = \"./service_quote_media.csv\"\n",
    "df.to_csv(file_path, index=False)\n"
   ]
  },
  {
   "cell_type": "code",
   "execution_count": 4,
   "id": "71fcf93c",
   "metadata": {},
   "outputs": [],
   "source": [
    "import csv\n",
    "docs = []\n",
    "with open(\"service_quote_media.csv\", encoding=\"utf-8\") as f:\n",
    "    reader = csv.DictReader(f)\n",
    "    for row in reader:\n",
    "        # Gom thông tin từng dịch vụ thành tập text\n",
    "        text = (f\"STT: {row['STT']}\\n\"\n",
    "                f\"Dịch vụ: {row['Tên Dịch Vụ']}\\n\"\n",
    "                f\"Mô tả: {row['Mô Tả Ngắn']}\\n\"\n",
    "                f\"Số lượng: {row['Số Lượng']}\\n\"\n",
    "                f\"Đơn giá: {row['Đơn Giá (₫)']}\\n\")\n",
    "        docs.append(text)"
   ]
  },
  {
   "cell_type": "code",
   "execution_count": 5,
   "id": "ffc63b2b",
   "metadata": {},
   "outputs": [
    {
     "name": "stdout",
     "output_type": "stream",
     "text": [
      "Hello! I'd be happy to explain what AI agents are.\n",
      "\n",
      "An AI agent is a software program that can perceive its environment, take actions, and learn from experience to achieve a specific goal. In other words, an AI agent is a computer system that can think and act like a human being, but with the help of artificial intelligence (AI) technology.\n",
      "\n",
      "AI agents typically consist of three main components:\n",
      "\n",
      "1. **Perception**: This refers to how the agent senses its environment, such as through sensors or data feeds.\n",
      "2. **Action**: This is what the agent does in response to its perception, such as moving a robot arm or sending an email.\n",
      "3. **Learning**: This is how the agent improves its performance over time, often by analyzing its experiences and adjusting its behavior accordingly.\n",
      "\n",
      "AI agents can be found in various applications, including:\n",
      "\n",
      "* Robotics: Autonomous vehicles, drones, and robots that can navigate and interact with their environment.\n",
      "* Virtual assistants: Siri, Alexa, and Google Assistant, which use natural language processing to understand user requests and respond accordingly.\n",
      "* Game playing: AI agents like AlphaGo, which defeated a human world champion in Go.\n",
      "* Healthcare: AI agents that analyze medical data to diagnose diseases or predict patient outcomes.\n",
      "\n",
      "There are different types of AI agents, including:\n",
      "\n",
      "* **Simple reflex agents**: These react to their environment without learning or reasoning.\n",
      "* **Model-based agents**: These use a model of the environment to make decisions and take actions.\n",
      "* **Reinforcement learning agents**: These learn by interacting with their environment and receiving rewards or penalties for their behavior.\n",
      "\n",
      "Overall, AI agents are an essential part of artificial intelligence research and development, enabling machines to interact with and adapt to their environments in increasingly sophisticated ways.\n"
     ]
    }
   ],
   "source": [
    "# LLM\n",
    "from langchain_ollama import OllamaLLM\n",
    "from langchain.schema import HumanMessage\n",
    "\n",
    "\n",
    "llm = OllamaLLM(\n",
    "    model=\"llama3.2\", \n",
    "    base_url=\"http://localhost:11434\",\n",
    "    temperature=0\n",
    ")\n",
    "\n",
    "# Send a message to the chat model\n",
    "response = llm.invoke([HumanMessage(content=\"Hello! Can you explain what AI agents are?\")])\n",
    "\n",
    "# Print the response\n",
    "print(response)"
   ]
  },
  {
   "cell_type": "code",
   "execution_count": 6,
   "id": "08beb49d",
   "metadata": {},
   "outputs": [],
   "source": [
    "# Embedding\n",
    "from langchain_ollama.embeddings import OllamaEmbeddings\n",
    "\n",
    "\n",
    "embeddings = OllamaEmbeddings(\n",
    "    model=\"nomic-embed-text\", \n",
    "    base_url=\"http://localhost:11434\"  # Adjust the base URL if needed\n",
    ")"
   ]
  },
  {
   "cell_type": "code",
   "execution_count": 7,
   "id": "bdb23f3a",
   "metadata": {},
   "outputs": [],
   "source": [
    "# Persist the embeddings\n",
    "\n",
    "from langchain_chroma import Chroma\n",
    "\n",
    "# vectordb = Chroma.from_texts(texts=docs, embedding=embeddings, persist_directory=\"./chroma_media\")\n",
    "# vectordb.persist()\n",
    "\n",
    "vector_store = Chroma(\n",
    "    embedding_function=embeddings,\n",
    "    persist_directory=\"./chroma_media\",\n",
    "    collection_name=\"media_service\",\n",
    ")\n",
    "\n",
    "\n",
    "vectordb = Chroma.from_texts(texts=docs, embedding=embeddings, persist_directory=\"./chroma_media\")"
   ]
  },
  {
   "cell_type": "code",
   "execution_count": null,
   "id": "11462297",
   "metadata": {},
   "outputs": [],
   "source": [
    "from langchain_core.prompts import PromptTemplate\n",
    "\n",
    "# template = \"\"\"Sử dụng nội dung sau để trả lời câu hỏi:\n",
    "# nếu bạn không biết câu trả lời, hãy nói rằng bạn không biết, đừng cố gắng đoán hoặc bịa ra câu trả lời, và nếu không biết thì hãy trả lời: \"Hãy để mình hỏi lại anh Quynh nhé!\".\n",
    "\n",
    "# {context}\n",
    "\n",
    "# Câu hỏi: {question}\n",
    "\n",
    "# Câu trả lời:\"\"\"\n",
    "# custom_rag_prompt = PromptTemplate.from_template(template)\n",
    "# example_messages = custom_rag_prompt.invoke(\n",
    "#     {\"context\": \"(bối cảnh ở đây)\", \"question\": \"(câu hỏi ở đây)\"}\n",
    "# ).to_messages()\n",
    "\n",
    "template = \"\"\"\n",
    "Bạn là Piccolo Media Bot – trợ lý bán hàng chuyên về tư vấn dịch vụ media production cho Piccolo Media.\n",
    "Hãy trả lời dựa trên thông tin báo giá được truy xuất dưới đây, đảm bảo:\n",
    "- Phong cách trả lời tự nhiên, giống như một người thật.\n",
    "- Tùy theo cách xưng hô của khách hàng mà bạn sẽ xưng hô cho phù hợp.\n",
    "- Dùng tiếng Việt.\n",
    "- Nếu không có đủ dữ liệu, đáp: \"Xin lỗi, mình chưa rõ lắm.\" hoặc \"Hãy để mình hỏi lại anh Quynh nhé!\".\n",
    "- Không đoán hoặc bịa ra câu trả lời.\n",
    "\n",
    "Thông tin báo giá (context):\n",
    "{context}\n",
    "\n",
    "Khách hỏi: {question}\n",
    "Bot trả lời:\n",
    "\"\"\"\n",
    "\n",
    "prompt = PromptTemplate(\n",
    "    template=template,\n",
    "    input_variables=[\"context\", \"question\"]\n",
    ")"
   ]
  },
  {
   "cell_type": "code",
   "execution_count": 10,
   "id": "4773e6ff",
   "metadata": {},
   "outputs": [
    {
     "name": "stdout",
     "output_type": "stream",
     "text": [
      "{'query': 'Làm clip 5 phút bao nhiêu tiền?', 'result': 'Bạn có muốn làm clip 5 phút không? Theo thông tin báo giá mà anh Quynh đã cung cấp, dịch vụ dựng phim với thời lượng 5-7 phút và số lượng 1 sẽ có giá khoảng 3.000.000 đồng.'}\n"
     ]
    }
   ],
   "source": [
    "from langchain.chains import RetrievalQA\n",
    "\n",
    "retriever = vectordb.as_retriever(search_kwargs={\"k\": 5})\n",
    "qa_chain = RetrievalQA.from_chain_type(\n",
    "    llm=llm,\n",
    "    chain_type=\"stuff\",\n",
    "    retriever=retriever,\n",
    "    chain_type_kwargs={\"prompt\": prompt},\n",
    ")\n",
    "\n",
    "# 5. Demo thử\n",
    "query = \"Làm clip 5 phút bao nhiêu tiền?\"\n",
    "answer = qa_chain.invoke(query)\n",
    "print(answer)"
   ]
  },
  {
   "cell_type": "code",
   "execution_count": null,
   "id": "56fccaf5",
   "metadata": {},
   "outputs": [],
   "source": []
  }
 ],
 "metadata": {
  "kernelspec": {
   "display_name": ".venv",
   "language": "python",
   "name": "python3"
  },
  "language_info": {
   "codemirror_mode": {
    "name": "ipython",
    "version": 3
   },
   "file_extension": ".py",
   "mimetype": "text/x-python",
   "name": "python",
   "nbconvert_exporter": "python",
   "pygments_lexer": "ipython3",
   "version": "3.12.7"
  }
 },
 "nbformat": 4,
 "nbformat_minor": 5
}
